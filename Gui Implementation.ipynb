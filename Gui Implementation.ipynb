{
 "cells": [
  {
   "cell_type": "code",
   "execution_count": 2,
   "id": "8cb97965",
   "metadata": {},
   "outputs": [],
   "source": [
    "import pandas as pd"
   ]
  },
  {
   "cell_type": "code",
   "execution_count": 18,
   "id": "71a7c67e",
   "metadata": {},
   "outputs": [],
   "source": [
    "data1 = {\n",
    "    \"Country\": [\"US\", \"IE\", \"CA\", \"FR\", \"SP\"],\n",
    "    \"GDP\": [45000, 46000,42000,47000,53000]\n",
    "}\n",
    "df1 = pd.DataFrame(data1)"
   ]
  },
  {
   "cell_type": "code",
   "execution_count": 12,
   "id": "f16b858e",
   "metadata": {},
   "outputs": [
    {
     "data": {
      "text/html": [
       "<div>\n",
       "<style scoped>\n",
       "    .dataframe tbody tr th:only-of-type {\n",
       "        vertical-align: middle;\n",
       "    }\n",
       "\n",
       "    .dataframe tbody tr th {\n",
       "        vertical-align: top;\n",
       "    }\n",
       "\n",
       "    .dataframe thead th {\n",
       "        text-align: right;\n",
       "    }\n",
       "</style>\n",
       "<table border=\"1\" class=\"dataframe\">\n",
       "  <thead>\n",
       "    <tr style=\"text-align: right;\">\n",
       "      <th></th>\n",
       "      <th>Country</th>\n",
       "      <th>GDP</th>\n",
       "    </tr>\n",
       "  </thead>\n",
       "  <tbody>\n",
       "    <tr>\n",
       "      <th>0</th>\n",
       "      <td>US</td>\n",
       "      <td>45000</td>\n",
       "    </tr>\n",
       "    <tr>\n",
       "      <th>1</th>\n",
       "      <td>IE</td>\n",
       "      <td>46000</td>\n",
       "    </tr>\n",
       "    <tr>\n",
       "      <th>2</th>\n",
       "      <td>CA</td>\n",
       "      <td>42000</td>\n",
       "    </tr>\n",
       "    <tr>\n",
       "      <th>3</th>\n",
       "      <td>FR</td>\n",
       "      <td>47000</td>\n",
       "    </tr>\n",
       "    <tr>\n",
       "      <th>4</th>\n",
       "      <td>SP</td>\n",
       "      <td>53000</td>\n",
       "    </tr>\n",
       "  </tbody>\n",
       "</table>\n",
       "</div>"
      ],
      "text/plain": [
       "  Country    GDP\n",
       "0      US  45000\n",
       "1      IE  46000\n",
       "2      CA  42000\n",
       "3      FR  47000\n",
       "4      SP  53000"
      ]
     },
     "execution_count": 12,
     "metadata": {},
     "output_type": "execute_result"
    }
   ],
   "source": [
    "df1"
   ]
  },
  {
   "cell_type": "code",
   "execution_count": 19,
   "id": "3f564de5",
   "metadata": {},
   "outputs": [
    {
     "data": {
      "text/html": [
       "<div>\n",
       "<style scoped>\n",
       "    .dataframe tbody tr th:only-of-type {\n",
       "        vertical-align: middle;\n",
       "    }\n",
       "\n",
       "    .dataframe tbody tr th {\n",
       "        vertical-align: top;\n",
       "    }\n",
       "\n",
       "    .dataframe thead th {\n",
       "        text-align: right;\n",
       "    }\n",
       "</style>\n",
       "<table border=\"1\" class=\"dataframe\">\n",
       "  <thead>\n",
       "    <tr style=\"text-align: right;\">\n",
       "      <th></th>\n",
       "      <th>Year</th>\n",
       "      <th>Unemployment</th>\n",
       "    </tr>\n",
       "  </thead>\n",
       "  <tbody>\n",
       "    <tr>\n",
       "      <th>0</th>\n",
       "      <td>1920</td>\n",
       "      <td>9.8</td>\n",
       "    </tr>\n",
       "    <tr>\n",
       "      <th>1</th>\n",
       "      <td>1930</td>\n",
       "      <td>12.0</td>\n",
       "    </tr>\n",
       "    <tr>\n",
       "      <th>2</th>\n",
       "      <td>1940</td>\n",
       "      <td>8.0</td>\n",
       "    </tr>\n",
       "    <tr>\n",
       "      <th>3</th>\n",
       "      <td>1950</td>\n",
       "      <td>7.2</td>\n",
       "    </tr>\n",
       "    <tr>\n",
       "      <th>4</th>\n",
       "      <td>1960</td>\n",
       "      <td>6.9</td>\n",
       "    </tr>\n",
       "    <tr>\n",
       "      <th>5</th>\n",
       "      <td>1970</td>\n",
       "      <td>4.2</td>\n",
       "    </tr>\n",
       "    <tr>\n",
       "      <th>6</th>\n",
       "      <td>1980</td>\n",
       "      <td>7.0</td>\n",
       "    </tr>\n",
       "    <tr>\n",
       "      <th>7</th>\n",
       "      <td>1990</td>\n",
       "      <td>6.5</td>\n",
       "    </tr>\n",
       "    <tr>\n",
       "      <th>8</th>\n",
       "      <td>2000</td>\n",
       "      <td>6.2</td>\n",
       "    </tr>\n",
       "    <tr>\n",
       "      <th>9</th>\n",
       "      <td>2010</td>\n",
       "      <td>5.5</td>\n",
       "    </tr>\n",
       "  </tbody>\n",
       "</table>\n",
       "</div>"
      ],
      "text/plain": [
       "   Year  Unemployment\n",
       "0  1920           9.8\n",
       "1  1930          12.0\n",
       "2  1940           8.0\n",
       "3  1950           7.2\n",
       "4  1960           6.9\n",
       "5  1970           4.2\n",
       "6  1980           7.0\n",
       "7  1990           6.5\n",
       "8  2000           6.2\n",
       "9  2010           5.5"
      ]
     },
     "execution_count": 19,
     "metadata": {},
     "output_type": "execute_result"
    }
   ],
   "source": [
    "df2 = pd.DataFrame({\n",
    "    \"Year\": [1920,1930,1940,1950,1960,1970,1980,1990,2000,2010],\n",
    "    \"Unemployment\": [9.8,12,8,7.2,6.9,4.2,7,6.5,6.2,5.5]\n",
    "})\n",
    "df2"
   ]
  },
  {
   "cell_type": "code",
   "execution_count": 7,
   "id": "47c3d588",
   "metadata": {},
   "outputs": [
    {
     "data": {
      "text/html": [
       "<div>\n",
       "<style scoped>\n",
       "    .dataframe tbody tr th:only-of-type {\n",
       "        vertical-align: middle;\n",
       "    }\n",
       "\n",
       "    .dataframe tbody tr th {\n",
       "        vertical-align: top;\n",
       "    }\n",
       "\n",
       "    .dataframe thead th {\n",
       "        text-align: right;\n",
       "    }\n",
       "</style>\n",
       "<table border=\"1\" class=\"dataframe\">\n",
       "  <thead>\n",
       "    <tr style=\"text-align: right;\">\n",
       "      <th></th>\n",
       "      <th>Interest_Rate</th>\n",
       "      <th>Stock_Price</th>\n",
       "    </tr>\n",
       "  </thead>\n",
       "  <tbody>\n",
       "    <tr>\n",
       "      <th>0</th>\n",
       "      <td>5.00</td>\n",
       "      <td>1500</td>\n",
       "    </tr>\n",
       "    <tr>\n",
       "      <th>1</th>\n",
       "      <td>5.50</td>\n",
       "      <td>1520</td>\n",
       "    </tr>\n",
       "    <tr>\n",
       "      <th>2</th>\n",
       "      <td>6.00</td>\n",
       "      <td>1525</td>\n",
       "    </tr>\n",
       "    <tr>\n",
       "      <th>3</th>\n",
       "      <td>5.50</td>\n",
       "      <td>1523</td>\n",
       "    </tr>\n",
       "    <tr>\n",
       "      <th>4</th>\n",
       "      <td>5.25</td>\n",
       "      <td>1515</td>\n",
       "    </tr>\n",
       "    <tr>\n",
       "      <th>5</th>\n",
       "      <td>6.50</td>\n",
       "      <td>1540</td>\n",
       "    </tr>\n",
       "    <tr>\n",
       "      <th>6</th>\n",
       "      <td>7.00</td>\n",
       "      <td>1545</td>\n",
       "    </tr>\n",
       "    <tr>\n",
       "      <th>7</th>\n",
       "      <td>8.00</td>\n",
       "      <td>1560</td>\n",
       "    </tr>\n",
       "    <tr>\n",
       "      <th>8</th>\n",
       "      <td>7.50</td>\n",
       "      <td>1555</td>\n",
       "    </tr>\n",
       "    <tr>\n",
       "      <th>9</th>\n",
       "      <td>8.50</td>\n",
       "      <td>1565</td>\n",
       "    </tr>\n",
       "  </tbody>\n",
       "</table>\n",
       "</div>"
      ],
      "text/plain": [
       "   Interest_Rate  Stock_Price\n",
       "0           5.00         1500\n",
       "1           5.50         1520\n",
       "2           6.00         1525\n",
       "3           5.50         1523\n",
       "4           5.25         1515\n",
       "5           6.50         1540\n",
       "6           7.00         1545\n",
       "7           8.00         1560\n",
       "8           7.50         1555\n",
       "9           8.50         1565"
      ]
     },
     "execution_count": 7,
     "metadata": {},
     "output_type": "execute_result"
    }
   ],
   "source": [
    "df3 = pd.DataFrame({\n",
    "    \"Interest_Rate\": [5,5.5,6,5.5,5.25,6.5,7,8,7.5,8.5],\n",
    "    \"Stock_Price\": [1500,1520,1525,1523,1515,1540,1545,1560,1555,1565]\n",
    "})\n",
    "df3"
   ]
  },
  {
   "cell_type": "code",
   "execution_count": 20,
   "id": "f8973a74",
   "metadata": {},
   "outputs": [],
   "source": [
    "df1.set_index(\"Country\", inplace=True)\n",
    "df2.set_index(\"Year\", inplace=True)"
   ]
  },
  {
   "cell_type": "code",
   "execution_count": 22,
   "id": "a91f3485",
   "metadata": {},
   "outputs": [
    {
     "name": "stdout",
     "output_type": "stream",
     "text": [
      "           GDP\n",
      "Country       \n",
      "US       45000\n",
      "IE       46000\n",
      "CA       42000\n",
      "FR       47000\n",
      "SP       53000\n",
      "      Unemployment\n",
      "Year              \n",
      "1920           9.8\n",
      "1930          12.0\n",
      "1940           8.0\n",
      "1950           7.2\n",
      "1960           6.9\n",
      "1970           4.2\n",
      "1980           7.0\n",
      "1990           6.5\n",
      "2000           6.2\n",
      "2010           5.5\n",
      "   Interest_Rate  Stock_Price\n",
      "0           5.00         1500\n",
      "1           5.50         1520\n",
      "2           6.00         1525\n",
      "3           5.50         1523\n",
      "4           5.25         1515\n",
      "5           6.50         1540\n",
      "6           7.00         1545\n",
      "7           8.00         1560\n",
      "8           7.50         1555\n",
      "9           8.50         1565\n"
     ]
    }
   ],
   "source": [
    "print(df1)\n",
    "print(df2)\n",
    "print(df3)"
   ]
  },
  {
   "cell_type": "markdown",
   "id": "91d1876e",
   "metadata": {},
   "source": [
    "## Dash GUI"
   ]
  },
  {
   "cell_type": "code",
   "execution_count": 24,
   "id": "0fbf62df",
   "metadata": {},
   "outputs": [],
   "source": [
    "import tkinter as tk\n",
    "import matplotlib.pyplot as plt\n",
    "from matplotlib.backends.backend_tkagg import FigureCanvasTkAgg"
   ]
  },
  {
   "cell_type": "code",
   "execution_count": 27,
   "id": "8e41ec7c",
   "metadata": {
    "collapsed": true
   },
   "outputs": [
    {
     "data": {
      "image/png": "[encoded data removed]",
      "text/plain": [
       "<Figure size 800x800 with 1 Axes>"
      ]
     },
     "metadata": {
      "needs_background": "light"
     },
     "output_type": "display_data"
    },
    {
     "data": {
      "image/png": "[encoded data removed]",
      "text/plain": [
       "<Figure size 800x800 with 1 Axes>"
      ]
     },
     "metadata": {
      "needs_background": "light"
     },
     "output_type": "display_data"
    },
    {
     "data": {
      "image/png": "[encoded data removed]",
      "text/plain": [
       "<Figure size 800x800 with 1 Axes>"
      ]
     },
     "metadata": {
      "needs_background": "light"
     },
     "output_type": "display_data"
    }
   ],
   "source": [
    "root = tk.Tk()\n",
    "\n",
    "# First dataframe as bar chart\n",
    "\n",
    "fig1 = plt.figure(figsize=(8,8), dpi=100)\n",
    "ax1 = fig1.add_subplot(111)\n",
    "\n",
    "bar1 = FigureCanvasTkAgg(fig1, root)\n",
    "bar1.get_tk_widget().pack(side=tk.LEFT, fill=tk.BOTH)\n",
    "\n",
    "df1.plot(kind=\"bar\", legend=True, ax=ax1)\n",
    "ax1.set_title(\"Country x GDP capita\")\n",
    "\n",
    "# Second datafram as line graph\n",
    "\n",
    "fig2 = plt.figure(figsize=(8,8), dpi=100)\n",
    "ax2 = fig2.add_subplot(111)\n",
    "\n",
    "line2 = FigureCanvasTkAgg(fig2, root)\n",
    "line2.get_tk_widget().pack(side=tk.LEFT, fill=tk.BOTH)\n",
    "\n",
    "df2.plot(kind=\"line\", legend=True, ax=ax2, color='r', marker='o')\n",
    "ax2.set_title(\"Unemployment from 1920 to 2010\")\n",
    "\n",
    "# Third dataframe as scatter plot\n",
    "\n",
    "fig3 = plt.figure(figsize=(8,8), dpi=100)\n",
    "ax3 = fig3.add_subplot(111)\n",
    "\n",
    "scatter3 = FigureCanvasTkAgg(fig3, root)\n",
    "scatter3.get_tk_widget().pack(side=tk.LEFT, fill=tk.BOTH)\n",
    "\n",
    "ax3.scatter(df3[\"Interest_Rate\"], df3[\"Stock_Price\"], color=\"g\")\n",
    "ax3.legend([\"Price Index\"])\n",
    "ax3.set_xlabel(\"Interest Rate\")\n",
    "ax3.set_title(\"Rate x Price\")\n",
    "\n",
    "root.mainloop()"
   ]
  },
  {
   "cell_type": "code",
   "execution_count": 31,
   "id": "e3a4a602",
   "metadata": {},
   "outputs": [],
   "source": [
    "from matplotlib.figure import Figure"
   ]
  },
  {
   "cell_type": "code",
   "execution_count": 43,
   "id": "4949bdfa",
   "metadata": {},
   "outputs": [],
   "source": [
    "root = tk.Tk()\n",
    "\n",
    "canvas = tk.Canvas(root, width=800, height=300)\n",
    "canvas.pack()\n",
    "\n",
    "label = tk.Label(root, text=\"GUI\")\n",
    "label.config(font=(\"Arial\", 20))\n",
    "canvas.create_window(400, 50, window=label)\n",
    "\n",
    "entry1 = tk.Entry(root)\n",
    "canvas.create_window(400,100,window=entry1)\n",
    "\n",
    "entry2 = tk.Entry(root)\n",
    "canvas.create_window(400,120,window=entry2)\n",
    "\n",
    "entry3 = tk.Entry(root)\n",
    "canvas.create_window(400,140,window=entry3)\n",
    "\n",
    "def createCharts():\n",
    "    global bar\n",
    "    global pie\n",
    "    \n",
    "    num1 = float(entry1.get())\n",
    "    num2 = float(entry2.get())\n",
    "    num3 = float(entry3.get())\n",
    "    \n",
    "    fig1 = Figure(figsize=(5,5), dpi=100)\n",
    "    ax1 = fig1.add_subplot(111)\n",
    "    \n",
    "    ax1.bar([\"num1, num2, num3\"], [num1, num2, num3], color=\"blue\")\n",
    "    bar = FigureCanvasTk.Agg(fig1, root)\n",
    "    bar.get_tk_widget().pack(side=tk.LEFT, fill=tk.BOTH)\n",
    "    \n",
    "    fig2 = Figure(figsize=(5,5), dpi=100)\n",
    "    ax2 = fig2.add_subplot(111)\n",
    "    \n",
    "    ax2.pie(\n",
    "        [num1, num2, num3],\n",
    "        labels=[\"num1\", \"num2\", \"num3\"],\n",
    "        colors=[\"blue\", \"green\", \"red\"],\n",
    "        startangle=90\n",
    "    )\n",
    "    \n",
    "    pie = FigureCanvasTkAgg(fig2, root)\n",
    "    pie.get_tk_widget().pack(side=tk.LEFT, fill=tk.BOTH)\n",
    "    \n",
    "def clearCharts():    \n",
    "    try:\n",
    "        bar.get_tk_widget().pack_forget()\n",
    "        pie.get_tk_widget().pack_forget()\n",
    "    except:\n",
    "        pass\n",
    "\n",
    "createChartsButton = tk.Button(\n",
    "    root,\n",
    "    text=\"Create Charts\",\n",
    "    command=createCharts,\n",
    "    bg=\"green\",\n",
    "    font=(\"Poppins\", 11, \"bold\")\n",
    ")\n",
    "\n",
    "canvas.create_window(400,180,window=createChartsButton)\n",
    "\n",
    "clearChartsButton = tk.Button(\n",
    "    root,\n",
    "    text=\"Clear Charts\",\n",
    "    command=clearCharts,\n",
    "    bg=\"blue\",\n",
    "    font=(\"Poppins\", 11, \"bold\")\n",
    ")\n",
    "\n",
    "canvas.create_window(400,220,window=clearChartsButton)\n",
    "\n",
    "exitButton = tk.Button(\n",
    "    root,\n",
    "    text=\"Exit\",\n",
    "    command=root.destroy,\n",
    "    bg=\"red\",\n",
    "    font=(\"Poppins\", 11, \"bold\")\n",
    ")\n",
    "\n",
    "canvas.create_window(400,250,window=exitButton)\n",
    "\n",
    "root.mainloop()"
   ]
  },
  {
   "cell_type": "code",
   "execution_count": null,
   "id": "3cb85d3f",
   "metadata": {},
   "outputs": [],
   "source": []
  }
 ],
 "metadata": {
  "kernelspec": {
   "display_name": "Python 3 (ipykernel)",
   "language": "python",
   "name": "python3"
  },
  "language_info": {
   "codemirror_mode": {
    "name": "ipython",
    "version": 3
   },
   "file_extension": ".py",
   "mimetype": "text/x-python",
   "name": "python",
   "nbconvert_exporter": "python",
   "pygments_lexer": "ipython3",
   "version": "3.9.12"
  }
 },
 "nbformat": 4,
 "nbformat_minor": 5
}
