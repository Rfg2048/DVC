{
 "cells": [
  {
   "cell_type": "code",
   "execution_count": null,
   "id": "8cb97965",
   "metadata": {},
   "outputs": [],
   "source": []
  },
  {
   "cell_type": "markdown",
   "id": "91d1876e",
   "metadata": {},
   "source": [
    "## Dash GUI"
   ]
  },
  {
   "cell_type": "code",
   "execution_count": 3,
   "id": "0fbf62df",
   "metadata": {},
   "outputs": [],
   "source": [
    "import tkinter as tk\n",
    "import matplotlib.pyplot as plt\n",
    "from matplotlib.backends.backend_tkagg import FigureCanvasTkAgg"
   ]
  },
  {
   "cell_type": "code",
   "execution_count": null,
   "id": "b4874fc8",
   "metadata": {},
   "outputs": [],
   "source": [
    "matplotlib.pyplot.plot(df1)"
   ]
  },
  {
   "cell_type": "code",
   "execution_count": null,
   "id": "8e41ec7c",
   "metadata": {},
   "outputs": [],
   "source": [
    "root = tk.Tk()\n",
    "\n",
    "# First dataframe as bar chart\n",
    "\n",
    "fig1 = plt.figure(figsize=(8,8), dpi=100)\n",
    "ax1 = fig1.add_subplot(111)\n",
    "\n",
    "bar1 = FigureCanvasTkAgg(fig1, root)\n",
    "bar1.get_tk_widget().pack(side=tk.LEFT, fill=tk.BOTH)\n",
    "\n",
    "df1.plot(kind=\"bar\", legend=True, ax=ax1)\n",
    "ax1.set_title(\"Country x GDP capita\")\n",
    "\n",
    "# Second datafram as line graph\n",
    "\n",
    "fig2 = plt.figure(figsize=(8,8), dpi=100)\n",
    "ax2 = fig2.add_subplot(111)\n",
    "\n",
    "line2 = FigureCanvasTkAgg(fig1, root)\n",
    "line2.get_tk_widget().pack(side=tk.LEFT, fill=tk.BOTH)\n",
    "\n",
    "df2.plot(kind=\"line\", legend=True, ax=ax2, color='r', marker='o')\n",
    "ax2.set_title(\"Unemployment from 1920 to 2010\")\n",
    "\n",
    "# Third datafram as scatter plot\n",
    "\n",
    "fig3 = plt.figure(figsize=(8,8), dpi=100)\n",
    "ax3 = fig3.add_subplot(111)\n",
    "\n",
    "scatter3 = FigureCanvasTkAgg(fig1, root)\n",
    "scatter3.get_tk_widget().pack(side=tk.LEFT, fill=tk.BOTH)\n",
    "\n",
    "df3.plot(kind=\"scatter\", legend=True, ax=ax3, color='r', marker='o')\n",
    "ax3.set_title(\"Unemployment from 1920 to 2010\")\n",
    "\n",
    "root.mainloop"
   ]
  },
  {
   "cell_type": "code",
   "execution_count": null,
   "id": "4949bdfa",
   "metadata": {},
   "outputs": [],
   "source": [
    "from matplotlib.figure import Figure\n",
    "\n",
    "root = tk.Tk()\n",
    "\n",
    "canvas = tk.Canvas(root, width=800, height=300)\n",
    "canvas.pack()\n",
    "\n",
    "label =tk.label(root, text=\"GUI\")\n",
    "label.config(font=(\"Arial\", 20))\n",
    "canvas.create_window(400, 50, window=label)\n",
    "\n",
    "entry2 = tk.Entry(root)\n",
    "canvas.create_window(400,100,window=entry2)\n",
    "\n",
    "entry2 = tk.Entry(root)\n",
    "canvas.create_window(400,100,window=entry2)\n",
    "\n",
    "entry3 = tk.Entry(root)\n",
    "canvas.create_window(400,100,window=entry3)\n",
    "\n",
    "def createCharts():\n",
    "    global bar\n",
    "    global pie\n",
    "    \n",
    "    num1 = float(entry1.get())\n",
    "    num2 = float(entry2.get())\n",
    "    num3 = float(entry3.get())\n",
    "\n",
    "button1 = tk.Button(\n",
    "    root,\n",
    "    text=\"Create Charts\",\n",
    "    command=createCharts\n",
    ")"
   ]
  },
  {
   "cell_type": "code",
   "execution_count": null,
   "id": "3cb85d3f",
   "metadata": {},
   "outputs": [],
   "source": []
  }
 ],
 "metadata": {
  "kernelspec": {
   "display_name": "Python 3 (ipykernel)",
   "language": "python",
   "name": "python3"
  },
  "language_info": {
   "codemirror_mode": {
    "name": "ipython",
    "version": 3
   },
   "file_extension": ".py",
   "mimetype": "text/x-python",
   "name": "python",
   "nbconvert_exporter": "python",
   "pygments_lexer": "ipython3",
   "version": "3.9.12"
  }
 },
 "nbformat": 4,
 "nbformat_minor": 5
}
